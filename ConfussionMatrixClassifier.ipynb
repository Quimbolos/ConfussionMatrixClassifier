{
 "cells": [
  {
   "cell_type": "markdown",
   "metadata": {},
   "source": [
    "# Confussion Matrix Classifier"
   ]
  },
  {
   "cell_type": "markdown",
   "metadata": {},
   "source": [
    "\n",
    "The code aims to elaborate a summary of prediction results on a classification problem by determining the number of TP, FP, FN and TN:\n",
    "\n",
    "- TP (True Positives): Point is both expected and found\n",
    "- FN (False Negatives): Point is expected but not found\n",
    "- FP (False Positives): Point is not in expected but is found\n",
    "- TN (True Negatives): Point is neither expected nor found (usually undefined)\n",
    "\n",
    "The number of TP, FP, FN and TN is obtained by comparing the set of expected points and the set of found points."
   ]
  },
  {
   "cell_type": "markdown",
   "metadata": {},
   "source": [
    "Aspects to consider when trying to classify into TP, FN, FP\n",
    "\n",
    "1 - Each expected value corresponds to more than one prediction (Only choose one as a True Positive, the rest must be classified as False Positives)\n",
    "\n",
    "2 - No predictions found for an expected value\n",
    "\n",
    "3 - Expected values difference is smaller than the threshold\n",
    "\n",
    "4 - Found values are within two expected values' threshold\n",
    "\n",
    "5 - Null values, structural errors (If there are any)"
   ]
  },
  {
   "cell_type": "code",
   "execution_count": 1,
   "metadata": {},
   "outputs": [],
   "source": [
    "# X axis locations, in milliseconds\n",
    "\n",
    "found = [1,2,3,11,12,13,21,22,23,61,62,63,131,132,133,2000,48029384] # Predicted Values\n",
    "\n",
    "expected = [2, 12, 22, 62, 90, 132, 190, 9000] # Expected Values\n",
    "\n",
    "threshold = 20 \n"
   ]
  },
  {
   "cell_type": "markdown",
   "metadata": {},
   "source": [
    "## Pre-processing of found values"
   ]
  },
  {
   "cell_type": "markdown",
   "metadata": {},
   "source": [
    "If there are any null values, structural errors, unwanted outliers or duplicate values, the code should be able to deal with them.\n",
    "\n",
    " - For Null Values, if there are any, the entries could be either removed or substituted with sensible values.\n",
    " - The structural errors, probably dealt with within the prediction algorithm, must be fixed.\n",
    " - In this case, unwanted outliers or duplicate values should not be eliminated, as we are evaluating the prediction model."
   ]
  },
  {
   "cell_type": "markdown",
   "metadata": {},
   "source": [
    "## Define Limits"
   ]
  },
  {
   "cell_type": "markdown",
   "metadata": {},
   "source": [
    "Create a list of limits to examine, for each found value, whether the value is an exact expected value, a non-expected value within the threshold (within limits), a non-expected value outside the threshold (outside the limits), or a missing value that is expected but not found.\n"
   ]
  },
  {
   "cell_type": "code",
   "execution_count": 2,
   "metadata": {},
   "outputs": [
    {
     "name": "stdout",
     "output_type": "stream",
     "text": [
      "[-18, 7.0, 7.0, 17.0, 17.0, 42, 42, 76.0, 76.0, 110, 112, 152, 170, 210, 8980, 9020]\n"
     ]
    }
   ],
   "source": [
    "import itertools\n",
    "limits = []\n",
    "\n",
    "for i in range(0,len(expected)):\n",
    "\n",
    "    if i+1 < len(expected):\n",
    "\n",
    "        if expected[i+1] - expected[i] < threshold:\n",
    "            limits.append(expected[i] + ((expected[i+1]-expected[i])/2))\n",
    "            limits.append(expected[i] + ((expected[i+1]-expected[i])/2))\n",
    "\n",
    "        elif expected[i+1] - expected[i] < (threshold*2) and expected[i+1] - expected[i] > threshold:\n",
    "            limits.append(expected[i] + threshold - (((expected[i]+threshold)-(expected[i+1]-threshold))/2))\n",
    "            limits.append(expected[i] + threshold - (((expected[i]+threshold)-(expected[i+1]-threshold))/2))\n",
    "\n",
    "        elif expected[i+1] - expected[i] > threshold:\n",
    "            limits.append(expected[i]+threshold)\n",
    "            limits.append(expected[i+1]-threshold)\n",
    "      \n",
    "\n",
    "# Concatenate Limits (Account for threshold in initial and final expected values)\n",
    "\n",
    "limits_to_concatenate = [[expected[0]-threshold], limits, [expected[-1]+threshold]]\n",
    "limits = list(itertools.chain.from_iterable(limits_to_concatenate))\n",
    "\n",
    "\n",
    "print(limits)"
   ]
  },
  {
   "cell_type": "code",
   "execution_count": 3,
   "metadata": {},
   "outputs": [],
   "source": [
    "import numpy as np\n",
    "\n",
    "True_Positive = [] # Prediction expected \n",
    "\n",
    "False_Positive = [] # Not expected but found\n",
    "\n",
    "False_Negative = [] # Prediction expected but not found\n",
    "\n",
    "Reverse_False_Negative = [0]*len(expected)\n",
    "\n",
    "counter = 0\n",
    "\n",
    "Test = []\n",
    "\n",
    "\n",
    "# Function to later choose the one True Positive from the range of found values within the threshold\n",
    "\n",
    "def closest_value(input_list, input_value):\n",
    " \n",
    "  arr = np.asarray(input_list)\n",
    " \n",
    "  i = (np.abs(arr - input_value)).argmin()\n",
    " \n",
    "  return arr[i]\n",
    "\n",
    "\n",
    "for i in range(0,len(limits),2):\n",
    "    \n",
    "    for j in range(counter,len(found)):   \n",
    "\n",
    "        # If prediction is expected or within threshold from expected \n",
    "        if limits[i] <= found[j] < limits[i+1] or found[j] == expected[i//2]:\n",
    "            Test.append(found[j])\n",
    "\n",
    "        # If prediction is expected and found take record\n",
    "        if (limits[i] < found[j] < limits[i+1]) == True:\n",
    "            Reverse_False_Negative[i//2] = 1\n",
    "\n",
    "        # If prediction reaches out the limits, select the closest value to the expected value and store it as True Positive\n",
    "        if found[j] > limits[i+1] and len(Test) > 0:\n",
    "            TruePos = closest_value(Test,expected[i//2])\n",
    "            True_Positive.append(TruePos)\n",
    "            counter = j\n",
    "            Test.clear()\n",
    "            continue\n",
    "\n",
    "        if found[j] < limits[i+1]:\n",
    "            counter = j\n",
    "            continue\n",
    "        \n",
    "\n",
    "expectedvalues = [True_Positive, False_Positive]\n",
    "expectedvalues = list(itertools.chain.from_iterable(expectedvalues))\n",
    "\n",
    "for j in range(0,len(found)): \n",
    "\n",
    "    # If prediction is not expected but found\n",
    "    if found[j] not in expectedvalues:\n",
    "        False_Positive.append(found[j])\n"
   ]
  },
  {
   "cell_type": "code",
   "execution_count": 4,
   "metadata": {},
   "outputs": [],
   "source": [
    "def find_indices(List, Item):\n",
    "    indices = []\n",
    "    for idx, value in enumerate(List):\n",
    "        if value == Item:\n",
    "            indices.append(idx)\n",
    "    return indices"
   ]
  },
  {
   "cell_type": "code",
   "execution_count": 5,
   "metadata": {},
   "outputs": [],
   "source": [
    "Index = find_indices(Reverse_False_Negative, 0)\n",
    "\n",
    "for i in range(0,len(Index)):\n",
    "    False_Negative.append(expected[Index[i]])\n"
   ]
  },
  {
   "cell_type": "code",
   "execution_count": 6,
   "metadata": {},
   "outputs": [
    {
     "name": "stdout",
     "output_type": "stream",
     "text": [
      "[90, 190, 9000]\n",
      "[2, 12, 22, 62, 132]\n",
      "[1, 3, 11, 13, 21, 23, 61, 63, 131, 133, 2000, 48029384]\n"
     ]
    }
   ],
   "source": [
    "print(False_Negative)\n",
    "\n",
    "print(True_Positive)\n",
    "\n",
    "print(False_Positive)"
   ]
  },
  {
   "cell_type": "markdown",
   "metadata": {},
   "source": [
    "# Classification Function (All in a Single Function)"
   ]
  },
  {
   "cell_type": "code",
   "execution_count": 7,
   "metadata": {},
   "outputs": [],
   "source": [
    "def analyse_results(expected, found, threshold=20):\n",
    "  \"\"\"\n",
    "    Allows comparing two sets of points (found vs expected) so we can easily calculate\n",
    "    algorithm accuracy. Two points are considered to be the same if they are within the\n",
    "    given threshold, and no other point is already within that threshold.\n",
    "    :param found: List of indexes found by the algorithm\n",
    "    :param expected: List of indexes expected to be found\n",
    "    :param threshold: Maximum threshold to either side (so found point has to be within +- the threshold)\n",
    "    :return: Dictionary with the relevant statistics:\n",
    "              - TP (True Positives): Point is in both expected and found\n",
    "              - FN (False Negatives): Point is in expected, but not in found\n",
    "              - FP (False Positives): Point is not in expected, but is in found\n",
    "              - TN (True Negatives): Point is in neither (usually undefined)\n",
    "  \"\"\"\n",
    "  \n",
    "  import itertools\n",
    "  limits = []\n",
    "\n",
    "  for i in range(0,len(expected)):\n",
    "\n",
    "    if i+1 < len(expected):\n",
    "\n",
    "        if expected[i+1] - expected[i] < threshold:\n",
    "            limits.append(expected[i] + ((expected[i+1]-expected[i])/2))\n",
    "            limits.append(expected[i] + ((expected[i+1]-expected[i])/2))\n",
    "\n",
    "        elif expected[i+1] - expected[i] < (threshold*2) and expected[i+1] - expected[i] > threshold:\n",
    "            limits.append(expected[i] + threshold - (((expected[i]+threshold)-(expected[i+1]-threshold))/2))\n",
    "            limits.append(expected[i] + threshold - (((expected[i]+threshold)-(expected[i+1]-threshold))/2))\n",
    "\n",
    "        elif expected[i+1] - expected[i] > threshold:\n",
    "            limits.append(expected[i]+threshold)\n",
    "            limits.append(expected[i+1]-threshold)\n",
    "      \n",
    "\n",
    "  # Concatenate Limits (Account for threshold in initial and final expected values)\n",
    "\n",
    "  limits_to_concatenate = [[expected[0]-threshold], limits, [expected[-1]+threshold]]\n",
    "  limits = list(itertools.chain.from_iterable(limits_to_concatenate))\n",
    "\n",
    "  # Allocate Variables\n",
    "  \n",
    "  False_Positive = [] # Not expected but found within the threshold\n",
    "\n",
    "  True_Positive = [] # Prediction expected \n",
    "\n",
    "  False_Positive_ = [] # Not expected but found\n",
    "\n",
    "  False_Negative = [] # Prediction expected but not found\n",
    "\n",
    "  Reverse_False_Negative = [0]*len(expected)\n",
    "\n",
    "  counter = 0\n",
    "\n",
    "  Test = []\n",
    "  \n",
    "\n",
    "  # Function to later choose the one True Positive from the range of found values within the threshold\n",
    "\n",
    "  def closest_value(input_list, input_value):\n",
    " \n",
    "    arr = np.asarray(input_list)\n",
    " \n",
    "    i = (np.abs(arr - input_value)).argmin()\n",
    " \n",
    "    return arr[i]\n",
    "\n",
    "\n",
    "\n",
    "  for i in range(0,len(limits),2):\n",
    "    \n",
    "    for j in range(counter,len(found)):   \n",
    "\n",
    "        # If prediction is within threshold from expected \n",
    "        if limits[i] <= found[j] < limits[i+1] or found[j]== expected[i//2]:\n",
    "            Test.append(found[j])\n",
    "\n",
    "        # If prediction is expected and found take record\n",
    "        if (limits[i] < found[j] < limits[i+1]) == True:\n",
    "            Reverse_False_Negative[i//2] = 1\n",
    "\n",
    "        # If prediction reaches out the limits, select the closest value to the expected value and store it as True Positive\n",
    "        if found[j] > limits[i+1] and len(Test) > 0:\n",
    "            TruePos = closest_value(Test,expected[i//2])\n",
    "            True_Positive.append(TruePos)\n",
    "            counter = j\n",
    "            Test.clear()\n",
    "            continue\n",
    "\n",
    "        if found[j] < limits[i+1]:\n",
    "            counter = j\n",
    "            continue\n",
    "\n",
    "\n",
    "  expectedvalues = [True_Positive, False_Positive]\n",
    "  expectedvalues = list(itertools.chain.from_iterable(expectedvalues))\n",
    "\n",
    "\n",
    "  for j in range(0,len(found)): \n",
    "\n",
    "    # If prediction is not expected but found\n",
    "    if found[j] not in expectedvalues:\n",
    "        False_Positive.append(found[j])\n",
    "\n",
    "\n",
    "  def find_indices(List, Item):\n",
    "    indices = []\n",
    "    for idx, value in enumerate(List):\n",
    "        if value == Item:\n",
    "            indices.append(idx)\n",
    "    return indices\n",
    "  \n",
    "  Index = find_indices(Reverse_False_Negative, 0)\n",
    "\n",
    "\n",
    "  for i in range(0,len(Index)):\n",
    "    False_Negative.append(expected[Index[i]])\n",
    "  \n",
    "  return {\n",
    "   \"True Positives: \" + str(len(True_Positive)),  # expected + found \n",
    "   \"False Positives: \" + str(len(False_Positive)), # not expected + extra ones found within the threshold\n",
    "   \"False Negatives: \" + str(len(False_Negative)), # expected + not found\n",
    "  }\n",
    "\n"
   ]
  },
  {
   "cell_type": "code",
   "execution_count": 8,
   "metadata": {},
   "outputs": [
    {
     "data": {
      "text/plain": [
       "{'False Negatives: 3', 'False Positives: 12', 'True Positives: 5'}"
      ]
     },
     "execution_count": 8,
     "metadata": {},
     "output_type": "execute_result"
    }
   ],
   "source": [
    "# Call function\n",
    "\n",
    "analyse_results(expected, found, threshold)"
   ]
  }
 ],
 "metadata": {
  "interpreter": {
   "hash": "59cbc60ce91730396215d9b1ccd10afc2dd93d6737ca6a9f3dfde93b02b5e3b2"
  },
  "kernelspec": {
   "display_name": "Python 3.8.8 64-bit ('base': conda)",
   "name": "python3"
  },
  "language_info": {
   "codemirror_mode": {
    "name": "ipython",
    "version": 3
   },
   "file_extension": ".py",
   "mimetype": "text/x-python",
   "name": "python",
   "nbconvert_exporter": "python",
   "pygments_lexer": "ipython3",
   "version": "3.8.8"
  },
  "orig_nbformat": 4
 },
 "nbformat": 4,
 "nbformat_minor": 2
}
